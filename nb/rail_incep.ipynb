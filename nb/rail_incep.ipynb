{
 "cells": [
  {
   "cell_type": "markdown",
   "id": "449179e0-3887-46e4-91d1-7a2e4ac657f8",
   "metadata": {},
   "source": [
    "# Inception in RAIL - Demo"
   ]
  },
  {
   "cell_type": "code",
   "execution_count": null,
   "id": "4d0a5b36-de22-4d78-9dc7-4699bdeb39f8",
   "metadata": {},
   "outputs": [],
   "source": [
    "import os\n",
    "import matplotlib.pyplot as plt\n",
    "import numpy as np\n",
    "%matplotlib inline \n",
    "import rail\n",
    "import qp\n",
    "from rail.core.data import TableHandle\n",
    "from rail.core.stage import RailStage\n",
    "\n",
    "from rail.estimation.algos.rail_inception import Inform_Inception, Inception"
   ]
  },
  {
   "cell_type": "code",
   "execution_count": null,
   "id": "7aeaa0c3-9bb8-4466-a2a3-28ae4a097861",
   "metadata": {},
   "outputs": [],
   "source": [
    "DS = RailStage.data_store\n",
    "DS.__class__.allow_overwrite = True"
   ]
  },
  {
   "cell_type": "markdown",
   "id": "cee1afc8-dc5f-48a5-9132-a94ee5f23590",
   "metadata": {
    "tags": []
   },
   "source": [
    "### Preparation"
   ]
  },
  {
   "cell_type": "markdown",
   "id": "673d9eea-fc51-4941-82df-f4d1c33e3e5b",
   "metadata": {},
   "source": [
    "To be understood by the estimator, the input data has to be reorganised as a 2d-array, so for each galaxy the first value will be the redshift and all the following is the flatten image."
   ]
  },
  {
   "cell_type": "code",
   "execution_count": null,
   "id": "ac1c4c29-03ad-4407-ad53-4912eb89e5d8",
   "metadata": {},
   "outputs": [],
   "source": [
    "img = np.load('/global/cfs/cdirs/lsst/groups/PZ/valentin_image_data_temp/img_30k.npy')\n",
    "z = np.load('/global/cfs/cdirs/lsst/groups/PZ/valentin_image_data_temp/z_30k.npy')"
   ]
  },
  {
   "cell_type": "code",
   "execution_count": null,
   "id": "4cb356d2-671f-4148-84fa-f34c390808e7",
   "metadata": {},
   "outputs": [],
   "source": [
    "img = img.reshape((-1, 64*64*5))\n",
    "img.shape"
   ]
  },
  {
   "cell_type": "code",
   "execution_count": null,
   "id": "75eb86c3-93db-4db7-98f5-d0641243ef72",
   "metadata": {},
   "outputs": [],
   "source": [
    "# Check the unflatten step\n",
    "img_0 = img[1].reshape((64, 64, 5))\n",
    "plt.imshow(img_0[..., 2:5]);"
   ]
  },
  {
   "cell_type": "code",
   "execution_count": null,
   "id": "daee4c67-660c-4862-bcc7-ca8145c612e0",
   "metadata": {},
   "outputs": [],
   "source": [
    "z = z.reshape((-1,1))\n",
    "train_data = np.concatenate((z[:20000], img[:20000]), axis = 1)\n",
    "test_data = np.concatenate((z[20000:], img[20000:]), axis = 1)\n",
    "\n",
    "train_data.shape"
   ]
  },
  {
   "cell_type": "code",
   "execution_count": null,
   "id": "671262c8-8217-48dc-8c24-b5ebbdc39a43",
   "metadata": {},
   "outputs": [],
   "source": [
    "training = DS.add_data(\"training\", train_data, TableHandle)\n",
    "testing = DS.add_data(\"testing\", test_data, TableHandle)"
   ]
  },
  {
   "cell_type": "markdown",
   "id": "64b3b91e-5794-4ecd-833d-9a85b4e8322c",
   "metadata": {},
   "source": [
    "### Training"
   ]
  },
  {
   "cell_type": "code",
   "execution_count": null,
   "id": "c9ee8ab0-0b97-4ec9-b519-f85226f44c0f",
   "metadata": {},
   "outputs": [],
   "source": [
    "inc_dict = dict(trainfrac=0.75,\n",
    "                epoch=25,\n",
    "                hdf5_groupname='photometry')"
   ]
  },
  {
   "cell_type": "code",
   "execution_count": null,
   "id": "c36ebb46-1c8a-460c-855d-37516e10b356",
   "metadata": {},
   "outputs": [],
   "source": [
    "Inform = Inform_Inception.make_stage(name='Inform_Inception', model='demo_inc.pkl', **inc_dict)"
   ]
  },
  {
   "cell_type": "code",
   "execution_count": null,
   "id": "573db096-853f-4d7d-a458-0b242da316a3",
   "metadata": {},
   "outputs": [],
   "source": [
    "Inform.inform(training)"
   ]
  },
  {
   "cell_type": "markdown",
   "id": "c7178784-b789-4f41-9ed4-35c9952fafee",
   "metadata": {},
   "source": [
    "### Results"
   ]
  },
  {
   "cell_type": "code",
   "execution_count": null,
   "id": "99c80345-fe30-427b-bf28-9e8b077ba805",
   "metadata": {},
   "outputs": [],
   "source": [
    "Inception_model = Inception.make_stage(name='Inception', hdf5_groupname='photometry',\n",
    "                                       model=Inform.get_handle('model'))"
   ]
  },
  {
   "cell_type": "code",
   "execution_count": null,
   "id": "f6a312b2-471b-4555-aefd-66c8ecfb7416",
   "metadata": {},
   "outputs": [],
   "source": [
    "results = Inception_model.estimate(testing)"
   ]
  },
  {
   "cell_type": "code",
   "execution_count": null,
   "id": "cfb048ca-9e76-4d51-8df7-6cca1be95e0b",
   "metadata": {},
   "outputs": [],
   "source": []
  }
 ],
 "metadata": {
  "kernelspec": {
   "display_name": "Python 3 (ipykernel)",
   "language": "python",
   "name": "python3"
  },
  "language_info": {
   "codemirror_mode": {
    "name": "ipython",
    "version": 3
   },
   "file_extension": ".py",
   "mimetype": "text/x-python",
   "name": "python",
   "nbconvert_exporter": "python",
   "pygments_lexer": "ipython3",
   "version": "3.11.4"
  }
 },
 "nbformat": 4,
 "nbformat_minor": 5
}
